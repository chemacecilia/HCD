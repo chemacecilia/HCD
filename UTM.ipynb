{
  "nbformat": 4,
  "nbformat_minor": 0,
  "metadata": {
    "colab": {
      "provenance": [],
      "authorship_tag": "ABX9TyNDDn4d/rvJPNL7GGnOpMkg",
      "include_colab_link": true
    },
    "kernelspec": {
      "name": "python3",
      "display_name": "Python 3"
    },
    "language_info": {
      "name": "python"
    }
  },
  "cells": [
    {
      "cell_type": "markdown",
      "metadata": {
        "id": "view-in-github",
        "colab_type": "text"
      },
      "source": [
        "<a href=\"https://colab.research.google.com/github/chemacecilia/HCD/blob/main/UTM.ipynb\" target=\"_parent\"><img src=\"https://colab.research.google.com/assets/colab-badge.svg\" alt=\"Open In Colab\"/></a>"
      ]
    },
    {
      "cell_type": "markdown",
      "source": [
        "**Objetivo:**\n",
        "Este ejercicio tiene como finalidad que los estudiantes entiendan el sistema de coordenadas proyectadas UTM (Universal Transverse Mercator) y cómo se transforman las coordenadas geográficas (latitud y longitud) en coordenadas UTM (en metros).\n",
        "\n",
        "\n",
        "\n"
      ],
      "metadata": {
        "id": "CUbCc4lZc5oA"
      }
    },
    {
      "cell_type": "markdown",
      "source": [
        "1. **Instalación de Librerías**: Usaremos la librería pyproj para realizar las transformaciones a UTM."
      ],
      "metadata": {
        "id": "Xmie5D3jeEJw"
      }
    },
    {
      "cell_type": "code",
      "execution_count": 1,
      "metadata": {
        "id": "yAPwtHPlczkS"
      },
      "outputs": [],
      "source": [
        "# !pip install pyproj"
      ]
    },
    {
      "cell_type": "code",
      "source": [
        "from pyproj import Proj, transform\n",
        "import matplotlib.pyplot as plt"
      ],
      "metadata": {
        "id": "ZHAZqKOUeZPy"
      },
      "execution_count": 2,
      "outputs": []
    },
    {
      "cell_type": "markdown",
      "source": [
        "**Definir un punto en coordenadas geográficas (Latitud, Longitud)**\n"
      ],
      "metadata": {
        "id": "WSFWi0AaeZ0E"
      }
    },
    {
      "cell_type": "code",
      "source": [
        "# Definir el punto en WGS84 (por ejemplo, una ubicación en Valencia)\n",
        "latitude = 39.4699\n",
        "longitude = -0.3763"
      ],
      "metadata": {
        "id": "Bh5jrAXMfIjY"
      },
      "execution_count": 3,
      "outputs": []
    },
    {
      "cell_type": "markdown",
      "source": [
        "**Crear un proyector para WGS84 (coordenadas geográficas) y UTM zona 30N**\n",
        "\n",
        "\n"
      ],
      "metadata": {
        "id": "zP1TAAmbfSff"
      }
    },
    {
      "cell_type": "code",
      "source": [
        "proj_utm = Proj(proj='utm', zone=30, ellps='WGS84', preserve_units=False)  # UTM zona 30\n",
        "proj_wgs84 = Proj(proj='latlong', datum='WGS84')  # Coordenadas geográficas\n",
        "\n",
        "# Transformar de WGS84 a UTM\n",
        "x_utm, y_utm = transform(proj_wgs84, proj_utm, longitude, latitude)\n",
        "print(f\"Coordenadas UTM: X = {x_utm:.2f} m, Y = {y_utm:.2f} m\")\n",
        "\n",
        "# Transformar de UTM de vuelta a WGS84\n",
        "lon_wgs84, lat_wgs84 = transform(proj_utm, proj_wgs84, x_utm, y_utm)\n",
        "print(f\"Coordenadas Geográficas Recuperadas: Latitud = {lat_wgs84:.5f}, Longitud = {lon_wgs84:.5f}\")\n"
      ],
      "metadata": {
        "colab": {
          "base_uri": "https://localhost:8080/"
        },
        "id": "_ko7HH_dfWiB",
        "outputId": "9a9e519c-a228-486c-d7d6-d77a0cc4ee0f"
      },
      "execution_count": 4,
      "outputs": [
        {
          "output_type": "stream",
          "name": "stdout",
          "text": [
            "Coordenadas UTM: X = 725695.71 m, Y = 4372210.14 m\n",
            "Coordenadas Geográficas Recuperadas: Latitud = 39.46990, Longitud = -0.37630\n"
          ]
        },
        {
          "output_type": "stream",
          "name": "stderr",
          "text": [
            "<ipython-input-4-f2148f3053ad>:5: FutureWarning: This function is deprecated. See: https://pyproj4.github.io/pyproj/stable/gotchas.html#upgrading-to-pyproj-2-from-pyproj-1\n",
            "  x_utm, y_utm = transform(proj_wgs84, proj_utm, longitude, latitude)\n",
            "<ipython-input-4-f2148f3053ad>:9: FutureWarning: This function is deprecated. See: https://pyproj4.github.io/pyproj/stable/gotchas.html#upgrading-to-pyproj-2-from-pyproj-1\n",
            "  lon_wgs84, lat_wgs84 = transform(proj_utm, proj_wgs84, x_utm, y_utm)\n"
          ]
        }
      ]
    },
    {
      "cell_type": "markdown",
      "source": [
        "**Visualización del punto en coordenadas UTM (sistema cartesiano)**\n"
      ],
      "metadata": {
        "id": "V7vmSxjChjoX"
      }
    },
    {
      "cell_type": "code",
      "source": [
        "plt.figure(figsize=(8, 6))\n",
        "plt.scatter(x_utm, y_utm, color='blue', label='UTM Coordinates', zorder=2)\n",
        "plt.title(\"Representación de Coordenadas UTM\")\n",
        "plt.xlabel(\"Easting (m)\")\n",
        "plt.ylabel(\"Northing (m)\")\n",
        "plt.legend()\n",
        "plt.grid(True)\n",
        "plt.show()"
      ],
      "metadata": {
        "colab": {
          "base_uri": "https://localhost:8080/",
          "height": 565
        },
        "id": "XRpiD6gshwgO",
        "outputId": "66407a15-12b0-480e-acbf-1d82872e2704"
      },
      "execution_count": 5,
      "outputs": [
        {
          "output_type": "display_data",
          "data": {
            "text/plain": [
              "<Figure size 800x600 with 1 Axes>"
            ],
            "image/png": "[encoded data removed]"
          },
          "metadata": {}
        }
      ]
    }
  ]
}